{
 "cells": [
  {
   "cell_type": "markdown",
   "metadata": {},
   "source": [
    "# Best accuracy of 80% by SVM "
   ]
  },
  {
   "cell_type": "markdown",
   "metadata": {},
   "source": [
    "# Natural Language Processing"
   ]
  },
  {
   "cell_type": "markdown",
   "metadata": {
    "colab_type": "text",
    "id": "X1kiO9kACE6s"
   },
   "source": [
    "## Importing the libraries"
   ]
  },
  {
   "cell_type": "code",
   "execution_count": 2,
   "metadata": {},
   "outputs": [
    {
     "name": "stderr",
     "output_type": "stream",
     "text": [
      "/home/skanzz/anaconda3/lib/python3.7/importlib/_bootstrap.py:219: RuntimeWarning: numpy.ufunc size changed, may indicate binary incompatibility. Expected 192 from C header, got 216 from PyObject\n",
      "  return f(*args, **kwds)\n"
     ]
    }
   ],
   "source": [
    "import numpy as np\n",
    "import pandas as pd\n",
    "import matplotlib.pyplot as plt"
   ]
  },
  {
   "cell_type": "markdown",
   "metadata": {
    "colab_type": "text",
    "id": "wTfaCIzdCLPA"
   },
   "source": [
    "## Importing the dataset"
   ]
  },
  {
   "cell_type": "code",
   "execution_count": 3,
   "metadata": {},
   "outputs": [],
   "source": [
    "dataset = pd.read_csv('Restaurant_Reviews.tsv',delimiter = '\\t', quoting = 3)"
   ]
  },
  {
   "cell_type": "markdown",
   "metadata": {
    "colab_type": "text",
    "id": "Qekztq71CixT"
   },
   "source": [
    "## Cleaning the texts"
   ]
  },
  {
   "cell_type": "code",
   "execution_count": 4,
   "metadata": {},
   "outputs": [
    {
     "name": "stderr",
     "output_type": "stream",
     "text": [
      "/home/skanzz/anaconda3/lib/python3.7/importlib/_bootstrap.py:219: RuntimeWarning: numpy.ufunc size changed, may indicate binary incompatibility. Expected 192 from C header, got 216 from PyObject\n",
      "  return f(*args, **kwds)\n",
      "[nltk_data] Downloading package stopwords to /home/skanzz/nltk_data...\n",
      "[nltk_data]   Package stopwords is already up-to-date!\n",
      "[nltk_data] Downloading package wordnet to /home/skanzz/nltk_data...\n",
      "[nltk_data]   Package wordnet is already up-to-date!\n"
     ]
    }
   ],
   "source": [
    "import re\n",
    "import nltk\n",
    "nltk.download('stopwords')\n",
    "nltk.download('wordnet')\n",
    "from nltk.corpus import stopwords\n",
    "from nltk.stem.wordnet import WordNetLemmatizer as stemmer\n",
    "corpus = []\n",
    "ps = stemmer()\n",
    "stpwords = stopwords.words('english')\n",
    "stpwords.remove('not')\n",
    "for i in range(1000):\n",
    "    reviews = re.sub('[^a-zA-Z]',' ',dataset['Review'][i])\n",
    "    reviews = reviews.lower()\n",
    "    reviews = reviews.split()\n",
    "    reviews = [ps.lemmatize(review) for review in reviews if review not in set()]\n",
    "    reviews = ' '.join(reviews)\n",
    "    corpus.append(reviews)"
   ]
  },
  {
   "cell_type": "code",
   "execution_count": 5,
   "metadata": {},
   "outputs": [
    {
     "name": "stdout",
     "output_type": "stream",
     "text": [
      "['wow loved this place', 'crust is not good', 'not tasty and the texture wa just nasty', 'stopped by during the late may bank holiday off rick steve recommendation and loved it', 'the selection on the menu wa great and so were the price', 'now i am getting angry and i want my damn pho', 'honeslty it didn t taste that fresh', 'the potato were like rubber and you could tell they had been made up ahead of time being kept under a warmer', 'the fry were great too', 'a great touch', 'service wa very prompt', 'would not go back', 'the cashier had no care what so ever on what i had to say it still ended up being wayyy overpriced', 'i tried the cape cod ravoli chicken with cranberry mmmm', 'i wa disgusted because i wa pretty sure that wa human hair', 'i wa shocked because no sign indicate cash only', 'highly recommended', 'waitress wa a little slow in service', 'this place is not worth your time let alone vega', 'did not like at all', 'the burrittos blah', 'the food amazing', 'service is also cute', 'i could care le the interior is just beautiful', 'so they performed', 'that s right the red velvet cake ohhh this stuff is so good', 'they never brought a salad we asked for', 'this hole in the wall ha great mexican street taco and friendly staff', 'took an hour to get our food only table in restaurant my food wa luke warm our sever wa running around like he wa totally overwhelmed', 'the worst wa the salmon sashimi', 'also there are combo like a burger fry and beer for which is a decent deal', 'this wa like the final blow', 'i found this place by accident and i could not be happier', 'seems like a good quick place to grab a bite of some familiar pub food but do yourself a favor and look elsewhere', 'overall i like this place a lot', 'the only redeeming quality of the restaurant wa that it wa very inexpensive', 'ample portion and good price', 'poor service the waiter made me feel like i wa stupid every time he came to the table', 'my first visit to hiro wa a delight', 'service suck', 'the shrimp tender and moist', 'there is not a deal good enough that would drag me into that establishment again', 'hard to judge whether these side were good because we were grossed out by the melted styrofoam and didn t want to eat it for fear of getting sick', 'on a positive note our server wa very attentive and provided great service', 'frozen puck of disgust with some of the worst people behind the register', 'the only thing i did like wa the prime rib and dessert section', 'it s too bad the food is so damn generic', 'the burger is good beef cooked just right', 'if you want a sandwich just go to any firehouse', 'my side greek salad with the greek dressing wa so tasty and the pita and hummus wa very refreshing', 'we ordered the duck rare and it wa pink and tender on the inside with a nice char on the outside', 'he came running after u when he realized my husband had left his sunglass on the table', 'their chow mein is so good', 'they have horrible attitude towards customer and talk down to each one when customer don t enjoy their food', 'the portion wa huge', 'loved it friendly server great food wonderful and imaginative menu', 'the heart attack grill in downtown vega is an absolutely flat lined excuse for a restaurant', 'not much seafood and like string of pasta at the bottom', 'the salad had just the right amount of sauce to not over power the scallop which wa perfectly cooked', 'the ripped banana wa not only ripped but petrified and tasteless', 'at least think to refill my water before i struggle to wave you over for minute', 'this place receives star for their appetizer', 'the cocktail are all handmade and delicious', 'we d definitely go back here again', 'we are so glad we found this place', 'great food and service huge portion and they give a military discount', 'always a great time at do gringo', 'update went back for a second time and it wa still just a amazing', 'we got the food and apparently they have never heard of salt and the batter on the fish wa chewy', 'a great way to finish a great', 'the deal included tasting and drink and jeff went above and beyond what we expected', 'really really good rice all the time', 'the service wa meh', 'it took over min to get their milkshake which wa nothing more than chocolate milk', 'i guess i should have known that this place would suck because it is inside of the excalibur but i didn t use my common sense', 'the scallop dish is quite appalling for value a well', 'time very bad customer service', 'the sweet potato fry were very good and seasoned well', 'today is the second time i ve been to their lunch buffet and it wa pretty good', 'there is so much good food in vega that i feel cheated for wasting an eating opportunity by going to rice and company', 'coming here is like experiencing an underwhelming relationship where both party can t wait for the other person to ask to break up', 'walked in and the place smelled like an old grease trap and only others there eating', 'the turkey and roast beef were bland', 'this place ha it', 'the pan cake everyone are raving about taste like a sugary disaster tailored to the palate of a six year old', 'i love the pho and the spring roll oh so yummy you have to try', 'the poor batter to meat ratio made the chicken tender very unsatisfying', 'all i have to say is the food wa amazing', 'omelet are to die for', 'everything wa fresh and delicious', 'in summary this wa a largely disappointing dining experience', 'it s like a really sexy party in your mouth where you re outrageously flirting with the hottest person at the party', 'never been to hard rock casino before will never ever step forward in it again', 'best breakfast buffet', 'say bye bye to your tip lady', 'we ll never go again', 'will be back again', 'food arrived quickly', 'it wa not good', 'on the up side their cafe serf really good food', 'our server wa fantastic and when he found out the wife love roasted garlic and bone marrow he added extra to our meal and another marrow to go', 'the only good thing wa our waiter he wa very helpful and kept the bloddy mary s coming', 'best buffet in town for the price you cannot beat it', 'i loved their mussel cooked in this wine reduction the duck wa tender and their potato dish were delicious', 'this is one of the better buffet that i have been to', 'so we went to tigerlilly and had a fantastic afternoon', 'the food wa delicious our bartender wa attentive and personable and we got a great deal', 'the ambience is wonderful and there is music playing', 'will go back next trip out', 'sooooo good', 'real sushi lover let s be honest yama is not that good', 'at least min passed in between u ordering and the food arriving and it wasn t that busy', 'this is a really fantastic thai restaurant which is definitely worth a visit', 'nice spicy and tender', 'good price', 'check it out', 'it wa pretty gross', 'i ve had better atmosphere', 'kind of hard to mess up a steak but they did', 'although i very much liked the look and sound of this place the actual experience wa a bit disappointing', 'i just don t know how this place managed to served the blandest food i have ever eaten when they are preparing indian cuisine', 'worst service to boot but that is the least of their worry', 'service wa fine and the waitress wa friendly', 'the guy all had steak and our steak loving son who ha had steak at the best and worst place said it wa the best steak he s ever eaten', 'we thought you d have to venture further away to get good sushi but this place really hit the spot that night', 'host staff were for lack of a better word bitch', 'bland not a liking this place for a number of reason and i don t want to waste time on bad reviewing i ll leave it at that', 'phenomenal food service and ambiance', 'i wouldn t return', 'definitely worth venturing off the strip for the pork belly will return next time i m in vega', 'this place is way too overpriced for mediocre food', 'penne vodka excellent', 'they have a good selection of food including a massive meatloaf sandwich a crispy chicken wrap a delish tuna melt and some tasty burger', 'the management is rude', 'delicious nyc bagel good selection of cream cheese real lox with caper even', 'great subway in fact it s so good when you come here every other subway will not meet your expectation', 'i had a seriously solid breakfast here', 'this is one of the best bar with food in vega', 'he wa extremely rude and really there are so many other restaurant i would love to dine at during a weekend in vega', 'my drink wa never empty and he made some really great menu suggestion', 'don t do it', 'the waiter wasn t helpful or friendly and rarely checked on u', 'my husband and i ate lunch here and were very disappointed with the food and service', 'and the red curry had so much bamboo shoot and wasn t very tasty to me', 'nice blanket of moz over top but i feel like this wa done to cover up the subpar food', 'the bathroom are clean and the place itself is well decorated', 'the menu is always changing food quality is going down service is extremely slow', 'the service wa a little slow considering that were served by people server so the food wa coming in a slow pace', 'i give it thumb down', 'we watched our waiter pay a lot more attention to other table and ignore u', 'my fianc and i came in the middle of the day and we were greeted and seated right away', 'this is a great restaurant at the mandalay bay', 'we waited for forty five minute in vain', 'crostini that came with the salad wa stale', 'some highlight great quality nigiri here', 'the staff is friendly and the joint is always clean', 'this wa a different cut than the piece the other day but still wonderful and tender s well a well flavored', 'i ordered the voodoo pasta and it wa the first time i d had really excellent pasta since going gluten free several year ago', 'this place is good', 'unfortunately we must have hit the bakery on leftover day because everything we ordered wa stale', 'i came back today since they relocated and still not impressed', 'i wa seated immediately', 'their menu is diverse and reasonably priced', 'avoid at all cost', 'restaurant is always full but never a wait', 'delicious', 'this place is hand down one of the best place to eat in the phoenix metro area', 'so don t go there if you are looking for good food', 'i ve never been treated so bad', 'bacon is hella salty', 'we also ordered the spinach and avocado salad the ingredient were sad and the dressing literally had zero taste', 'this really is how vega fine dining used to be right down to the menu handed to the lady that have no price listed', 'the waitress are very friendly', 'lordy the khao soi is a dish that is not to be missed for curry lover', 'everything on the menu is terrific and we were also thrilled that they made amazing accommodation for our vegetarian daughter', 'perhaps i caught them on an off night judging by the other review but i m not inspired to go back', 'the service here leaf a lot to be desired', 'the atmosphere is modern and hip while maintaining a touch of coziness', 'not a weekly haunt but definitely a place to come back to every once in a while', 'we literally sat there for minute with no one asking to take our order', 'the burger had absolutely no flavor the meat itself wa totally bland the burger wa overcooked and there wa no charcoal flavor', 'i also decided not to send it back because our waitress looked like she wa on the verge of having a heart attack', 'i dressed up to be treated so rudely', 'it wa probably dirt', 'love this place hit the spot when i want something healthy but not lacking in quantity or flavor', 'i ordered the lemon raspberry ice cocktail which wa also incredible', 'the food sucked which we expected but it sucked more than we could have imagined', 'interesting decor', 'what i really like there is the crepe station', 'also were served hot bread and butter and home made potato chip with bacon bit on top very original and very good', 'you can watch them preparing the delicious food', 'both of the egg roll were fantastic', 'when my order arrived one of the gyro wa missing', 'i had a salad with the wing and some ice cream for dessert and left feeling quite satisfied', 'i m not really sure how joey s wa voted best hot dog in the valley by reader of phoenix magazine', 'the best place to go for a tasty bowl of pho', 'the live music on friday totally blow', 'i ve never been more insulted or felt disrespected', 'very friendly staff', 'it is worth the drive', 'i had heard good thing about this place but it exceeding every hope i could have dreamed of', 'food wa great and so wa the serivce', 'the warm beer didn t help', 'great brunch spot', 'service is friendly and inviting', 'very good lunch spot', 'i ve lived here since and this wa the first and last time i ve stepped foot into this place', 'the worst experience ever', 'must have been an off night at this place', 'the side are delish mixed mushroom yukon gold puree white corn beateous', 'if that bug never showed up i would have given a for sure but on the other side of the wall where this bug wa climbing wa the kitchen', 'for about minute we we re waiting for her salad when we realized that it wasn t coming any time soon', 'my friend loved the salmon tartar', 'won t go back', 'extremely tasty', 'waitress wa good though', 'soggy and not good', 'the jamaican mojitos are delicious', 'which are small and not worth the price', 'the food is rich so order accordingly', 'the shower area is outside so you can only rinse not take a full shower unless you don t mind being nude for everyone to see', 'the service wa a bit lacking', 'lobster bisque bussell sprout risotto filet all needed salt and pepper and of course there is none at the table', 'hopefully this bodes for them going out of business and someone who can cook can come in', 'it wa either too cold not enough flavor or just bad', 'i loved the bacon wrapped date', 'this is an unbelievable bargain', 'the folk at otto always make u feel so welcome and special', 'a for the main also uninspired', 'this is the place where i first had pho and it wa amazing', 'this wonderful experience made this place a must stop whenever we are in town again', 'if the food isn t bad enough for you then enjoy dealing with the world s worst annoying drunk people', 'very very fun chef', 'ordered a double cheeseburger got a single patty that wa falling apart picture uploaded yeah still suck', 'great place to have a couple drink and watch any and all sporting event a the wall are covered with tv s', 'if it were possible to give them zero star they d have it', 'the description said yum yum sauce and another said eel sauce yet another said spicy mayo well none of the roll had sauce on them', 'i d say that would be the hardest decision honestly all of m s dish taste how they are supposed to taste amazing', 'if she had not rolled the eye we may have stayed not sure if we will go back and try it again', 'everyone is very attentive providing excellent customer service', 'horrible don t waste your time and money', 'now this dish wa quite flavourful', 'by this time our side of the restaurant wa almost empty so there wa no excuse', 'it wasn t busy either also the building wa freezing cold', 'like the other reviewer said you couldn t pay me to eat at this place again', 'drink took close to minute to come out at one point', 'seriously flavorful delight folk', 'much better than the other ayce sushi place i went to in vega', 'the lighting is just dark enough to set the mood', 'based on the sub par service i received and no effort to show their gratitude for my business i won t be going back', 'owner s are really great people', 'there is nothing privileged about working eating there', 'the greek dressing wa very creamy and flavorful', 'overall i don t think that i would take my parent to this place again because they made most of the similar complaint that i silently felt too', 'now the pizza itself wa good the peanut sauce wa very tasty', 'we had at our table and the service wa pretty fast', 'fantastic service here', 'i a well would ve given godfather zero star if possible', 'they know how to make them here', 'very tough and very short on flavor', 'i hope this place stick around', 'i have been in more than a few bar in vega and do not ever recall being charged for tap water', 'the restaurant atmosphere wa exquisite', 'good service very clean and inexpensive to boot', 'the seafood wa fresh and generous in portion', 'plus it s only buck', 'the service wa not up to par either', 'thus far have only visited twice and the food wa absolutely delicious each time', 'just a good a when i had it more than a year ago', 'for a self proclaimed coffee cafe i wa wildly disappointed', 'the veggitarian platter is out of this world', 'you cant go wrong with any of the food here', 'you can t beat that', 'stopped by this place while in madison for the ironman very friendly kind staff', 'the chef were friendly and did a good job', 'i ve had better not only from dedicated boba tea spot but even from jenni pho', 'i liked the patio and the service wa outstanding', 'the goat taco didn t skimp on the meat and wow what flavor', 'i think not again', 'i had the mac salad and it wa pretty bland so i will not be getting that again', 'i went to bachi burger on a friend s recommendation and wa not disappointed', 'service stink here', 'i waited and waited', 'this place is not quality sushi it is not a quality restaurant', 'i would definitely recommend the wing a well a the pizza', 'great pizza and salad', 'thing that went wrong they burned the saganaki', 'we waited an hour for what wa a breakfast i could have done time better at home', 'this place is amazing', 'i hate to disagree with my fellow yelpers but my husband and i were so disappointed with this place', 'waited hour never got either of our pizza a many other around u who came in later did', 'just don t know why they were so slow', 'the staff is great the food is delish and they have an incredible beer selection', 'i live in the neighborhood so i am disappointed i won t be back here because it is a convenient location', 'i didn t know pulled pork could be soooo delicious', 'you get incredibly fresh fish prepared with care', 'before i go in to why i gave a star rating please know that this wa my third time eating at bachi burger before writing a review', 'i love the fact that everything on their menu is worth it', 'never again will i be dining at this place', 'the food wa excellent and service wa very good', 'good beer drink selection and good food selection', 'please stay away from the shrimp stir fried noodle', 'the potato chip order wa sad i could probably count how many chip were in that box and it wa probably around', 'food wa really boring', 'good service check', 'this greedy corporation will never see another dime from me', 'will never ever go back', 'a much a i d like to go back i can t get passed the atrocious service and will never return', 'in the summer you can dine in a charming outdoor patio so very delightful', 'i did not expect this to be so good', 'fantastic food', 'she ordered a toasted english muffin that came out untoasted', 'the food wa very good', 'never going back', 'great food for the price which is very high quality and house made', 'the bus boy on the other hand wa so rude', 'by this point my friend and i had basically figured out this place wa a joke and didn t mind making it publicly and loudly known', 'back to good bbq lighter fare reasonable pricing and tell the public they are back to the old way', 'and considering the two of u left there very full and happy for about you just can t go wrong', 'all the bread is made in house', 'the only downside is the service', 'also the fry are without a doubt the worst fry i ve ever had', 'service wa exceptional and food wa a good a all the review', 'a couple of month later i returned and had an amazing meal', 'favorite place in town for shawarrrrrrma', 'the black eyed pea and sweet potato unreal', 'you won t be disappointed', 'they could serve it with just the vinaigrette and it may make for a better overall dish but it wa still very good', 'i go to far too many place and i ve never seen any restaurant that serf a egg breakfast especially for', 'when my mom and i got home she immediately got sick and she only had a few bite of salad', 'the server are not pleasant to deal with and they don t always honor pizza hut coupon', 'both of them were truly unbelievably good and i am so glad we went back', 'we had fantastic service and were pleased by the atmosphere', 'everything wa gross', 'i love this place', 'great service and food', 'first the bathroom at this location were dirty seat cover were not replenished just plain yucky', 'the burger i got the gold standard a burger and wa kind of disappointed', 'omg the food wa delicioso', 'there is nothing authentic about this place', 'the spaghetti is nothing special whatsoever', 'of all the dish the salmon wa the best but all were great', 'the vegetable are so fresh and the sauce feel like authentic thai', 'it s worth driving up from tucson', 'the selection wa probably the worst i ve seen in vega there wa none', 'pretty good beer selection too', 'this place is like chipotle but better', 'classy warm atmosphere fun and fresh appetizer succulent steak baseball steak', 'star for the brick oven bread app', 'i have eaten here multiple time and each time the food wa delicious', 'we sat another ten minute and finally gave up and left', 'he wa terrible', 'everyone is treated equally special', 'it shouldn t take min for pancake and egg', 'it wa delicious', 'on the good side the staff wa genuinely pleasant and enthusiastic a real treat', 'sadly gordon ramsey s steak is a place we shall sharply avoid during our next trip to vega', 'a always the evening wa wonderful and the food delicious', 'best fish i ve ever had in my life', 'the bathroom is just next door and very nice', 'the buffet is small and all the food they offered wa bland', 'this is an outstanding little restaurant with some of the best food i have ever tasted', 'pretty cool i would say', 'definitely a turn off for me i doubt i ll be back unless someone else is buying', 'server did a great job handling our large rowdy table', 'i find wasting food to be despicable but this just wasn t food', 'my wife had the lobster bisque soup which wa lukewarm', 'would come back again if i had a sushi craving while in vega', 'the staff are great the ambiance is great', 'he deserves star', 'i left with a stomach ache and felt sick the rest of the day', 'they dropped more than the ball', 'the dining space is tiny but elegantly decorated and comfortable', 'they will customize your order any way you d like my usual is eggplant with green bean stir fry love it', 'and the bean and rice were mediocre at best', 'best taco in town by far', 'i took back my money and got outta there', 'in an interesting part of town this place is amazing', 'rude inconsiderate management', 'the staff are now not a friendly the wait time for being served are horrible no one even say hi for the first minute', 'i won t be back', 'they have great dinner', 'the service wa outshining i definitely recommend the halibut', 'the food wa terrible', 'will never ever go back and have told many people what had happened', 'i don t recommend unless your car break down in front of it and you are starving', 'i will come back here every time i m in vega', 'this place deserves one star and ha to do with the food', 'this is a disgrace', 'def coming back to bowl next time', 'if you want healthy authentic or ethic food try this place', 'i will continue to come here on lady night andddd date night highly recommend this place to anyone who is in the area', 'i have been here several time in the past and the experience ha always been great', 'we walked away stuffed and happy about our first vega buffet experience', 'service wa excellent and price are pretty reasonable considering this is vega and located inside the crystal shopping mall by aria', 'to summarize the food wa incredible nay transcendant but nothing brings me joy quite like the memory of the pneumatic condiment dispenser', 'i m probably one of the few people to ever go to ians and not like it', 'kid pizza is always a hit too with lot of great side dish option for the kiddos', 'service is perfect and the family atmosphere is nice to see', 'cooked to perfection and the service wa impeccable', 'this one is simply a disappointment', 'overall i wa very disappointed with the quality of food at bouchon', 'i don t have to be an accountant to know i m getting screwed', 'great place to eat reminds me of the little mom and pop shop in the san francisco bay area', 'today wa my first taste of a buldogis gourmet hot dog and i have to tell you it wa more than i ever thought possible', 'left very frustrated', 'i ll definitely be in soon again', 'food wa really good and i got full petty fast', 'service wa fantastic', 'total waste of time', 'i don t know what kind it is but they have the best iced tea', 'come hungry leave happy and stuffed', 'for service i give them no star', 'i can assure you that you won t be disappointed', 'i can take a little bad service but the food suck', 'gave up trying to eat any of the crust teeth still sore', 'but now i wa completely grossed out', 'i really enjoyed eating here', 'first time going but i think i will quickly become a regular', 'our server wa very nice and even though he looked a little overwhelmed with all of our need he stayed professional and friendly until the end', 'from what my dinner companion told me everything wa very fresh with nice texture and taste', 'on the ground right next to our table wa a large smeared been stepped in and tracked everywhere pile of green bird poop', 'furthermore you can t even find hour of operation on the website', 'we ve tried to like this place but after time i think we re done with them', 'what a mistake that wa', 'no complaint', 'this is some seriously good pizza and i m an expert connisseur on the topic', 'waiter wa a jerk', 'strike who want to be rushed', 'these are the nicest restaurant owner i ve ever come across', 'i never come again', 'we loved the biscuit', 'service is quick and friendly', 'ordered an appetizer and took minute and then the pizza another minute', 'so absolutley fantastic', 'it wa a huge awkward lb piece of cow that wa th gristle and fat', 'definitely will come back here again', 'i like steiner because it s dark and it feel like a bar', 'wow very spicy but delicious', 'if you re not familiar check it out', 'i ll take my business dinner dollar elsewhere', 'i d love to go back', 'anyway this f restaurant ha a wonderful breakfast lunch', 'nothing special', 'each day of the week they have a different deal and it s all so delicious', 'not to mention the combination of pear almond and bacon is a big winner', 'will not be back', 'sauce wa tasteless', 'the food is delicious and just spicy enough so be sure to ask for spicier if you prefer it that way', 'my ribeye steak wa cooked perfectly and had great mesquite flavor', 'i don t think we ll be going back anytime soon', 'food wa so gooodd', 'i am far from a sushi connoisseur but i can definitely tell the difference between good food and bad food and this wa certainly bad food', 'i wa so insulted', 'the last time i had lunch here ha been bad', 'the chicken wing contained the driest chicken meat i have ever eaten', 'the food wa very good and i enjoyed every mouthful an enjoyable relaxed venue for couple small family group etc', 'nargile i think you are great', 'best tater tot in the southwest', 'we loved the place', 'definitely not worth the i paid', 'the vanilla ice cream wa creamy and smooth while the profiterole chou pastry wa fresh enough', 'im in az all the time and now have my new spot', 'the manager wa the worst', 'the inside is really quite nice and very clean', 'the food wa outstanding and the price were very reasonable', 'i don t think i ll be running back to carly s anytime soon for food', 'this is wa due to the fact that it took minute to be acknowledged then another minute to get our food and they kept forgetting thing', 'love the margarita too', 'this wa my first and only vega buffet and it did not disappoint', 'very good though', 'the one down note is the ventilation could use some upgrading', 'great pork sandwich', 'don t waste your time here', 'total letdown i would much rather just go to the camelback flower shop and cartel coffee', 'third the cheese on my friend s burger wa cold', 'we enjoy their pizza and brunch', 'the steak are all well trimmed and also perfectly cooked', 'we had a group of when we claimed we would only have and they handled u beautifully', 'i loved it', 'we asked for the bill to leave without eating and they didn t bring that either', 'this place is a jewel in la vega and exactly what i ve been hoping to find in nearly ten year living here', 'seafood wa limited to boiled shrimp and crab leg but the crab leg definitely did not taste fresh', 'the selection of food wa not the best', 'delicious and i will absolutely be back', 'this isn t a small family restaurant this is a fine dining establishment', 'they had a toro tartare with a cavier that wa extraordinary and i liked the thinly sliced wagyu with white truffle', 'i dont think i will be back for a very long time', 'it wa attached to a gas station and that is rarely a good sign', 'how awesome is that', 'i will be back many time soon', 'the menu had so much good stuff on it i could not decide', 'worse of all he humiliated his worker right in front of me bunch of horrible name calling', 'conclusion very filling meal', 'their daily special are always a hit with my group', 'and then tragedy struck', 'the pancake wa also really good and pretty large at that', 'this wa my first crawfish experience and it wa delicious', 'their monster chicken fried steak and egg is my all time favorite', 'waitress wa sweet and funny', 'i also had to taste my mom s multi grain pumpkin pancake with pecan butter and they were amazing fluffy and delicious', 'i d rather eat airline food seriously', 'cant say enough good thing about this place', 'the ambiance wa incredible', 'the waitress and manager are so friendly', 'i would not recommend this place', 'overall i wasn t very impressed with noca', 'my gyro wa basically lettuce only', 'terrible service', 'thoroughly disappointed', 'i don t each much pasta but i love the homemade hand made pasta and thin pizza here', 'give it a try you will be happy you did', 'by far the best cheesecurds we have ever had', 'reasonably priced also', 'everything wa perfect the night we were in', 'the food is very good for your typical bar food', 'it wa a drive to get there', 'at first glance it is a lovely bakery cafe nice ambiance clean friendly staff', 'anyway i do not think i will go back there', 'point your finger at any item on the menu order it and you won t be disappointed', 'oh this is such a thing of beauty this restaurant', 'if you haven t gone here go now', 'a greasy unhealthy meal', 'first time there and might just be the last', 'those burger were amazing', 'similarly the delivery man did not say a word of apology when our food wa minute late', 'and it wa way to expensive', 'be sure to order dessert even if you need to pack it to go the tiramisu and cannoli are both to die for', 'this wa my first time and i can t wait until the next', 'the bartender wa also nice', 'everything wa good and tasty', 'this place is two thumb up way up', 'the best place in vega for breakfast just check out a sat or sun', 'if you love authentic mexican food and want a whole bunch of interesting yet delicious meat to choose from you need to try this place', 'terrible management', 'an excellent new restaurant by an experienced frenchman', 'if there were zero star i would give it zero star', 'great steak great side great wine amazing dessert', 'worst martini ever', 'the steak and the shrimp are in my opinion the best entree at gc', 'i had the opportunity today to sample your amazing pizza', 'we waited for thirty minute to be seated although there were vacant table and we were the only folk waiting', 'the yellowtail carpaccio wa melt in your mouth fresh', 'i won t try going back there even if it s empty', 'no i m going to eat the potato that i found some stranger hair in it', 'just spicy enough perfect actually', 'last night wa my second time dining here and i wa so happy i decided to go back', 'not even a hello we will be right with you', 'the dessert were a bit strange', 'my boyfriend and i came here for the first time on a recent trip to vega and could not have been more pleased with the quality of food and service', 'i really do recommend this place you can go wrong with this donut place', 'nice ambiance', 'i would recommend saving room for this', 'i guess maybe we went on an off night but it wa disgraceful', 'however my recent experience at this particular location wa not so good', 'i know this is not like the other restaurant at all something is very off here', 'avoid this establishment', 'i think this restaurant suffers from not trying hard enough', 'all of the tapa dish were delicious', 'i heart this place', 'my salad had a bland vinegrette on the baby green and heart of palm', 'after two i felt disgusting', 'a good time', 'i believe that this place is a great stop for those with a huge belly and hankering for sushi', 'generous portion and great taste', 'i will never go back to this place and will never ever recommended this place to anyone', 'the server went back and forth several time not even so much a an are you being helped', 'food wa delicious', 'an hour seriously', 'i consider this theft', 'eew this location need a complete overhaul', 'we recently witnessed her poor quality of management towards other guest a well', 'waited and waited and waited', 'he also came back to check on u regularly excellent service', 'our server wa super nice and checked on u many time', 'the pizza tasted old super chewy in not a good way', 'i swung in to give them a try but wa deeply disappointed', 'service wa good and the company wa better', 'the staff are also very friendly and efficient', 'a for the service i m a fan because it s quick and you re being served by some nice folk', 'boy wa that sucker dry', 'over rated', 'if you look for authentic thai food go else where', 'their steak are recommended', 'after i pulled up my car i waited for another minute before being acknowledged', 'great food and great service in a clean and friendly setting', 'all in all i can assure you i ll be back', 'i hate those thing a much a cheap quality black olive', 'my breakfast wa perpared great with a beautiful presentation of giant slice of toast lightly dusted with powdered sugar', 'the kid play area is nasty', 'great place fo take out or eat in', 'the waitress wa friendly and happy to accomodate for vegan veggie option', 'omg i felt like i had never eaten thai food until this dish', 'it wa extremely crumby and pretty tasteless', 'it wa a pale color instead of nice and char and ha no flavor', 'the crouton also taste homemade which is an extra plus', 'i got home to see the driest damn wing ever', 'it ll be a regular stop on my trip to phoenix', 'i really enjoyed crema caf before they expanded i even told friend they had the best breakfast', 'not good for the money', 'i miss it and wish they had one in philadelphia', 'we got sitting fairly fast but ended up waiting minute just to place our order another minute before the food arrived', 'they also have the best cheese crisp in town', 'good value great food great service', 'couldn t ask for a more satisfying meal', 'the food is good', 'it wa awesome', 'i just wanted to leave', 'we made the drive all the way from north scottsdale and i wa not one bit disappointed', 'i will not be eating there again', 'the owner really really need to quit being soooooo cheap let them wrap my freaking sandwich in two paper not one', 'i checked out this place a couple year ago and wa not impressed', 'the chicken i got wa definitely reheated and wa only ok the wedge were cold and soggy', 'sorry i will not be getting food from here anytime soon', 'an absolute must visit', 'the cow tongue and cheek taco are amazing', 'my friend did not like his bloody mary', 'despite how hard i rate business it actually rare for me to give a star', 'they really want to make your experience a good one', 'i will not return', 'i had the chicken pho and it tasted very bland', 'very disappointing', 'the grilled chicken wa so tender and yellow from the saffron seasoning', 'a drive thru mean you do not want to wait around for half an hour for your food but somehow when we end up going here they make u wait and wait', 'pretty awesome place', 'ambience is perfect', 'best of luck to the rude and non customer service focused new management', 'any grandmother can make a roasted chicken better than this one', 'i asked multiple time for the wine list and after some time of being ignored i went to the hostess and got one myself', 'the staff is always super friendly and helpful which is especially cool when you bring two small boy and a baby', 'four star for the food the guy in the blue shirt for his great vibe still letting u in to eat', 'the roast beef sandwich tasted really good', 'same evening him and i are both drastically sick', 'high quality chicken on the chicken caesar salad', 'ordered burger rare came in we ll done', 'we were promptly greeted and seated', 'tried to go here for lunch and it wa a madhouse', 'i wa proven dead wrong by this sushi bar not only because the quality is great but the service is fast and the food impeccable', 'after waiting an hour and being seated i wa not in the greatest of mood', 'this is a good joint', 'the macarons here are insanely good', 'i m not eating here', 'our waiter wa very attentive friendly and informative', 'maybe if they weren t cold they would have been somewhat edible', 'this place ha a lot of promise but fails to deliver', 'very bad experience', 'what a mistake', 'food wa average at best', 'great food', 'we won t be going back anytime soon', 'very very disappointed ordered the big bay plater', 'great place to relax and have an awesome burger and beer', 'it is perfect for a sit down family meal or get together with a few friend', 'not much flavor to them and very poorly constructed', 'the patio seating wa very comfortable', 'the fried rice wa dry a well', 'hand down my favorite italian restaurant', 'that just scream legit in my book somethat s also pretty rare here in vega', 'it wa just not a fun experience', 'the atmosphere wa great with a lovely duo of violinist playing song we requested', 'i personally love the hummus pita baklava falafel and baba ganoush it s amazing what they do with eggplant', 'very convenient since we were staying at the mgm', 'the owner are super friendly and the staff is courteous', 'both great', 'eclectic selection', 'the sweet potato tot were good but the onion ring were perfection or a close a i have had', 'the staff wa very attentive', 'and the chef wa generous with his time even came around twice so we can take picture with him', 'the owner used to work at nobu so this place is really similar for half the price', 'google mediocre and i imagine smashburger will pop up', 'dont go here', 'i promise they won t disappoint', 'a a sushi lover avoid this place by all mean', 'what a great double cheeseburger', 'awesome service and food', 'a fantastic neighborhood gem', 'i can t wait to go back', 'the plantain were the worst i ve ever tasted', 'it s a great place and i highly recommend it', 'service wa slow and not attentive', 'i gave it star then and i m giving it star now', 'your staff spends more time talking to themselves than me', 'dessert panna cotta wa amazing', 'very good food great atmosphere', 'damn good steak', 'total brunch fail', 'price are very reasonable flavor are spot on the sauce is home made and the slaw is not drenched in mayo', 'the decor is nice and the piano music soundtrack is pleasant', 'the steak wa amazing rge fillet relleno wa the best seafood plate i have ever had', 'good food good service', 'it wa absolutely amazing', 'i probably won t be back to be honest', 'will definitely be back', 'the sergeant pepper beef sandwich with auju sauce is an excellent sandwich a well', 'hawaiian breeze mango magic and pineapple delight are the smoothy that i ve tried so far and they re all good', 'went for lunch service wa slow', 'we had so much to say about the place before we walked in that he expected it to be amazing but wa quickly disappointed', 'i wa mortified', 'needle to say we will never be back here again', 'anyways the food wa definitely not filling at all and for the price you pay you should expect more', 'the chip that came out were dripping with grease and mostly not edible', 'i wasn t really impressed with strip steak', 'have been going since and every meal ha been awesome', 'our server wa very nice and attentive a were the other serving staff', 'the cashier wa friendly and even brought the food out to me', 'i work in the hospitality industry in paradise valley and have refrained from recommending cibo any longer', 'the atmosphere here is fun', 'would not recommend to others', 'service is quick and even to go order are just like we like it', 'i mean really how do you get so famous for your fish and chip when it s so terrible', 'that said our mouth and belly were still quite pleased', 'not my thing', 'thumb up', 'if you are reading this please don t go there', 'i loved the grilled pizza reminded me of legit italian pizza', 'only pro large seating area nice bar area great simple drink menu the best brick oven pizza with homemade dough', 'they have a really nice atmosphere', 'tonight i had the elk filet special and it sucked', 'after one bite i wa hooked', 'we ordered some old classic and some new dish after going there a few time and were sorely disappointed with everything', 'cute quaint simple honest', 'the chicken wa deliciously seasoned and had the perfect fry on the outside and moist chicken on the inside', 'the food wa great a always compliment to the chef', 'special thanks to dylan t for the recommendation on what to order all yummy for my tummy', 'awesome selection of beer', 'great food and awesome service', 'one nice thing wa that they added gratuity on the bill since our party wa larger than or and they didn t expect more tip than that', 'a fly wa in my apple juice a fly', 'the han nan chicken wa also very tasty', 'a for the service i thought it wa good', 'the food wa barely lukewarm so it must have been sitting waiting for the server to bring it out to u', 'ryan s bar is definitely one edinburgh establishment i won t be revisiting', 'nicest chinese restaurant i ve been in a while', 'overall i like there food and the service', 'they also now serve indian naan bread with hummus and some spicy pine nut sauce that wa out of this world', 'probably never coming back and wouldn t recommend it', 'friend s pasta also bad he barely touched it', 'try them in the airport to experience some tasty food and speedy friendly service', 'i love the decor with the chinese calligraphy wall paper', 'never had anything to complain about here', 'the restaurant is very clean and ha a family restaurant feel to it', 'it wa way over fried', 'i m not sure how long we stood there but it wa long enough for me to begin to feel awkwardly out of place', 'when i opened the sandwich i wa impressed but not in a good way', 'will not be back', 'there wa a warm feeling with the service and i felt like their guest for a special treat', 'an extensive menu provides lot of option for breakfast', 'i always order from the vegetarian menu during dinner which ha a wide array of option to choose from', 'i have watched their price inflate portion get smaller and management attitude grow rapidly', 'wonderful lil tapa and the ambience made me feel all warm and fuzzy inside', 'i got to enjoy the seafood salad with a fabulous vinegrette', 'the wonton were thin not thick and chewy almost melt in your mouth', 'level spicy wa perfect where spice didn t over whelm the soup', 'we were sat right on time and our server from the get go wa fantastic', 'main thing i didn t enjoy is that the crowd is of older crowd around mid s and up', 'when i m on this side of town this will definitely be a spot i ll hit up again', 'i had to wait over minute to get my drink and longer to get arepas', 'this is a great place to eat', 'the jalapeno bacon is soooo good', 'the service wa poor and thats being nice', 'food wa good service wa good price were good', 'the place wa not clean and the food oh so stale', 'the chicken dish are ok the beef is like shoe leather', 'but the service wa beyond bad', 'i m so happy to be here', 'tasted like dirt', 'one of the few place in phoenix that i would definately go back to again', 'the block wa amazing', 'it s close to my house it s low key non fancy affordable price good food', 'both the hot sour the egg flower soup were absolutely star', 'my sashimi wa poor quality being soggy and tasteless', 'great time family dinner on a sunday night', 'the food is not tasty at all not to say it real traditional hunan style', 'what did bother me wa the slow service', 'the flair bartender are absolutely amazing', 'their frozen margarita are way too sugary for my taste', 'these were so good we ordered them twice', 'so in a nutshell the restaraunt smell like a combination of a dirty fish market and a sewer', 'my girlfriend s veal wa very bad', 'unfortunately it wa not good', 'i had a pretty satifying experience', 'join the club and get awesome offer via email', 'perfect for someone me who only like beer ice cold or in this case even colder', 'bland and flavorless is a good way of describing the barely tepid meat', 'the chain which i m no fan of beat this place easily', 'the nacho are a must have', 'we will not be coming back', 'i don t have very many word to say about this place but it doe everything pretty well', 'the staff is super nice and very quick even with the crazy crowd of the downtown jury lawyer and court staff', 'great atmosphere friendly and fast service', 'when i received my pita it wa huge it did have a lot of meat in it so thumb up there', 'once your food arrives it s meh', 'paying for a hot dog and fry that look like it came out of a kid s meal at the wienerschnitzel is not my idea of a good meal', 'the classic maine lobster roll wa fantastic', 'my brother in law who work at the mall ate here same day and guess what he wa sick all night too', 'so good i am going to have to review this place twice once hereas a tribute to the place and once a a tribute to an event held here last night', 'the chip and salsa were really good the salsa wa very fresh', 'this place is great', 'mediocre food', 'once you get inside you ll be impressed with the place', 'i m super pissd', 'and service wa super friendly', 'why are these sad little vegetable so overcooked', 'this place wa such a nice surprise', 'they were golden crispy and delicious', 'i had high hope for this place since the burger are cooked over a charcoal grill but unfortunately the taste fell flat way flat', 'i could eat their bruschetta all day it is devine', 'not a single employee came out to see if we were ok or even needed a water refill once they finally served u our food', 'lastly the mozzarella stick they were the best thing we ordered', 'the first time i ever came here i had an amazing experience i still tell people how awesome the duck wa', 'the server wa very negligent of our need and made u feel very unwelcome i would not suggest this place', 'the service wa terrible though', 'this place is overpriced not consistent with their boba and it really is overpriced', 'it wa packed', 'i love this place', 'i can say that the dessert were yummy', 'the food wa terrible', 'the seasonal fruit wa fresh white peach puree', 'it kept getting worse and worse so now i m officially done', 'this place should honestly be blown up', 'but i definitely would not eat here again', 'do not waste your money here', 'i love that they put their food in nice plastic container a opposed to cramming it in little paper takeout box', 'the cr pe wa delicate and thin and moist', 'awful service', 'won t ever go here again', 'food quality ha been horrible', 'for that price i can think of a few place i would have much rather gone', 'the service here is fair at best', 'i do love sushi but i found kabuki to be over priced over hip and under service', 'do yourself a favor and stay away from this dish', 'very poor service', 'no one at the table thought the food wa above average or worth the wait that we had for it', 'best service and food ever maria our server wa so good and friendly she made our day', 'they were excellent', 'i paid the bill but did not tip because i felt the server did a terrible job', 'just had lunch here and had a great experience', 'i have never had such bland food which surprised me considering the article we read focused so much on their spice and flavor', 'food is way overpriced and portion are fucking small', 'i recently tried caballero s and i have been back every week since', 'for buck a head i really expect better food', 'the food came out at a good pace', 'i ate there twice on my last visit and especially enjoyed the salmon salad', 'i won t be back', 'we could not believe how dirty the oyster were', 'this place deserves no star', 'i would not recommend this place', 'in fact i m going to round up to star just because she wa so awesome', 'to my disbelief each dish qualified a the worst version of these food i have ever tasted', 'bad day or not i have a very low tolerance for rude customer service people it is your job to be nice and polite wash dish otherwise', 'the potato were great and so wa the biscuit', 'i probably would not go here again', 'so flavorful and ha just the perfect amount of heat', 'the price is reasonable and the service is great', 'the wife hated her meal coconut shrimp and our friend really did not enjoy their meal either', 'my fella got the huevos rancheros and they didn t look too appealing', 'went in for happy hour great list of wine', 'some may say this buffet is pricey but i think you get what you pay for and this place you are getting quite a lot', 'i probably won t be coming back here', 'worst food service i ve had in a while', 'this place is pretty good nice little vibe in the restaurant', 'talk about great customer service of course we will be back', 'hot dish are not hot cold dish are close to room temp i watched staff prepare food with bare hand no glove everything is deep fried in oil', 'i love their fry and their bean', 'always a pleasure dealing with him', 'they have a plethora of salad and sandwich and everything i ve tried get my seal of approval', 'this place is awesome if you want something light and healthy during the summer', 'for sushi on the strip this is the place to go', 'the service wa great even the manager came and helped with our table', 'the feel of the dining room wa more college cooking course than high class dining and the service wa slow at best', 'i started this review with two star but i m editing it to give it only one', 'this is the worst sushi i have ever eat besides costco s', 'all in all an excellent restaurant highlighted by great service a unique menu and a beautiful setting', 'my boyfriend and i sat at the bar and had a completely delightful experience', 'weird vibe from owner', 'there wa hardly any meat', 'i ve had better bagel from the grocery store', 'go to place for gyro', 'i love the owner chef his one authentic japanese cool dude', 'now the burger aren t a good the pizza which used to be amazing is doughy and flavorless', 'i found a six inch long piece of wire in my salsa', 'the service wa terrible food wa mediocre', 'we definately enjoyed ourselves', 'i ordered albondigas soup which wa just warm and tasted like tomato soup with frozen meatball', 'on three different occasion i asked for well done or medium well and all three time i got the bloodiest piece of meat on my plate', 'i had about two bite and refused to eat anymore', 'the service wa extremely slow', 'after minute wait i got a table', 'seriously killer hot chai latte', 'no allergy warning on the menu and the waitress had absolutely no clue a to which meal did or did not contain peanut', 'my boyfriend tried the mediterranean chicken salad and fell in love', 'their rotating beer on tap is also a highlight of this place', 'pricing is a bit of a concern at mellow mushroom', 'worst thai ever', 'if you stay in vega you must get breakfast here at least once', 'i want to first say our server wa great and we had perfect service', 'the pizza selection are good', 'i had strawberry tea which wa good', 'highly unprofessional and rude to a loyal patron', 'overall a great experience', 'spend your money elsewhere', 'their regular toasted bread wa equally satisfying with the occasional pat of butter mmmm', 'the buffet at bellagio wa far from what i anticipated', 'and the drink are weak people', 'my order wa not correct', 'also i feel like the chip are bought not made in house', 'after the disappointing dinner we went elsewhere for dessert', 'the chip and sals a here is amazing', 'we won t be returning', 'this is my new fav vega buffet spot', 'i seriously cannot believe that the owner ha so many unexperienced employee that all are running around like chicken with their head cut off', 'very very sad', 'i felt insulted and disrespected how could you talk and judge another human being like that', 'how can you call yourself a steakhouse if you can t properly cook a steak i don t understand', 'i m not impressed with the concept or the food', 'the only thing i wasn t too crazy about wa their guacamole a i don t like it pur ed', 'there is really nothing for me at postinos hope your experience is better', 'i got food poisoning here at the buffet', 'they brought a fresh batch of fry and i wa thinking yay something warm but no', 'what should have been a hilarious yummy christmas eve dinner to remember wa the biggest fail of the entire trip for u', 'needle to say i won t be going back anytime soon', 'this place is disgusting', 'every time i eat here i see caring teamwork to a professional degree', 'the ri style calamari wa a joke', 'however there wa so much garlic in the fondue it wa barely edible', 'i could barely stomach the meal but didn t complain because it wa a business lunch', 'it wa so bad i had lost the heart to finish it', 'it also took her forever to bring u the check when we asked for it', 'we aren t one to make a scene at restaurant but i just don t get it definitely lost the love after this one', 'disappointing experience', 'the food is about on par with denny s which is to say not good at all', 'if you want to wait for mediocre food and downright terrible service then this is the place for you', 'waaaaaayyyyyyyyyy over rated is all i am saying', 'we won t be going back', 'the place wa fairly clean but the food simply wasn t worth it', 'this place lacked style', 'the sangria wa about half of a glass wine full and wa ridiculous', 'don t bother coming here', 'the meat wa pretty dry i had the sliced brisket and pulled pork', 'the building itself seems pretty neat the bathroom is pretty trippy but i wouldn t eat here again', 'it wa equally awful', 'probably not in a hurry to go back', 'very slow at seating even with reservation', 'not good by any stretch of the imagination', 'the cashew cream sauce wa bland and the vegetable were undercooked', 'the chipolte ranch dipping sause wa tasteless seemed thin and watered down with no heat', 'it wa a bit too sweet not really spicy enough and lacked flavor', 'i wa very disappointed', 'this place is horrible and way overpriced', 'maybe it s just their vegetarian fare but i ve been twice and i thought it wa average at best', 'it wasn t busy at all and now we know why', 'the table outside are also dirty a lot of the time and the worker are not always friendly and helpful with the menu', 'the ambiance here did not feel like a buffet setting but more of a douchey indoor garden for tea and biscuit', 'con spotty service', 'the fry were not hot and neither wa my burger', 'but then they came back cold', 'then our food came out disappointment ensued', 'the real disappointment wa our waiter', 'my husband said she wa very rude did not even apologize for the bad food or anything', 'the only reason to eat here would be to fill up before a night of binge drinking just to get some carbs in your stomach', 'insult profound deuchebaggery and had to go outside for a smoke break while serving just to solidify it', 'if someone order two taco don t you think it may be part of customer service to ask if it is combo or ala cart', 'she wa quite disappointed although some blame need to be placed at her door', 'after all the rave review i couldn t wait to eat here what a disappointment', 'del taco is pretty nasty and should be avoided if possible', 'it s not hard to make a decent hamburger', 'but i don t like it', 'hell no will i go back', 'we ve have gotten a much better service from the pizza place next door than the service we received from this restaurant', 'i don t know what the big deal is about this place but i won t be back ya all', 'i immediately said i wanted to talk to the manager but i did not want to talk to the guy who wa doing shot of fireball behind the bar', 'the ambiance isn t much better', 'unfortunately it only set u up for disapppointment with our entree', 'the food wasn t good', 'your server suck wait correction our server heimer sucked', 'what happened next wa pretty off putting', 'too bad cause i know it s family owned i really wanted to like this place', 'overpriced for what you are getting', 'i vomited in the bathroom mid lunch', 'i kept looking at the time and it had soon become minute yet still no food', 'i have been to very few place to eat that under no circumstance would i ever return to and this top the list', 'we started with the tuna sashimi which wa brownish in color and obviously wasn t fresh', 'food wa below average', 'it sure doe beat the nacho at the movie but i would expect a little bit more coming from a restaurant', 'all in all ha long bay wa a bit of a flop', 'the problem i have is that they charge for a sandwich that is no bigger than a subway sub which offer better and more amount of vegetable', 'shrimp when i unwrapped it i live only a mile from brushfire it wa literally ice cold', 'it lacked flavor seemed undercooked and dry', 'it really is impressive that the place hasn t closed down', 'i would avoid this place if you are staying in the mirage', 'the refried bean that came with my meal were dried out and crusty and the food wa bland', 'spend your money and time some place else', 'a lady at the table next to u found a live green caterpillar in her salad', 'the presentation of the food wa awful', 'i can t tell you how disappointed i wa', 'i think food should have flavor and texture and both were lacking', 'appetite instantly gone', 'overall i wa not impressed and would not go back', 'the whole experience wa underwhelming and i think we ll just go to ninja sushi next time', 'then a if i hadn t wasted enough of my life there they poured salt in the wound by drawing out the time it took to bring the check']\n"
     ]
    }
   ],
   "source": [
    "print(corpus)"
   ]
  },
  {
   "cell_type": "markdown",
   "metadata": {
    "colab_type": "text",
    "id": "CLqmAkANCp1-"
   },
   "source": [
    "## Creating the Bag of Words model"
   ]
  },
  {
   "cell_type": "code",
   "execution_count": 6,
   "metadata": {},
   "outputs": [],
   "source": [
    "from sklearn.feature_extraction.text import TfidfVectorizer\n",
    "tfid = TfidfVectorizer()\n",
    "x = tfid.fit_transform(corpus).toarray()\n",
    "y = dataset.iloc[:, -1].values"
   ]
  },
  {
   "cell_type": "markdown",
   "metadata": {
    "colab_type": "text",
    "id": "DH_VjgPzC2cd"
   },
   "source": [
    "## Splitting the dataset into the Training set and Test set"
   ]
  },
  {
   "cell_type": "code",
   "execution_count": 7,
   "metadata": {},
   "outputs": [],
   "source": [
    "from sklearn.model_selection import train_test_split\n",
    "x_train, x_test, y_train, y_test = train_test_split(x, y, test_size = 0.2)"
   ]
  },
  {
   "cell_type": "markdown",
   "metadata": {
    "colab_type": "text",
    "id": "VkIq23vEDIPt"
   },
   "source": [
    "## Training the Naive Bayes model on the Training set"
   ]
  },
  {
   "cell_type": "code",
   "execution_count": 8,
   "metadata": {},
   "outputs": [
    {
     "data": {
      "text/plain": [
       "BernoulliNB(alpha=1.0, binarize=0.0, class_prior=None, fit_prior=True)"
      ]
     },
     "execution_count": 8,
     "metadata": {},
     "output_type": "execute_result"
    }
   ],
   "source": [
    "from sklearn.naive_bayes import GaussianNB,MultinomialNB,BernoulliNB\n",
    "clf = GaussianNB()\n",
    "clf2 =  MultinomialNB()\n",
    "clf3 = BernoulliNB()\n",
    "clf.fit(x_train, y_train)\n",
    "clf2.fit(x_train, y_train)\n",
    "clf3.fit(x_train, y_train)"
   ]
  },
  {
   "cell_type": "markdown",
   "metadata": {
    "colab_type": "text",
    "id": "1JaRM7zXDWUy"
   },
   "source": [
    "## Predicting the Test set results"
   ]
  },
  {
   "cell_type": "code",
   "execution_count": 9,
   "metadata": {},
   "outputs": [],
   "source": [
    "y_pred = clf.predict(x_test)\n",
    "y_pred_2 = clf2.predict(x_test)\n",
    "y_pred_3 = clf3.predict(x_test)"
   ]
  },
  {
   "cell_type": "markdown",
   "metadata": {
    "colab_type": "text",
    "id": "xoMltea5Dir1"
   },
   "source": [
    "## Making the Confusion Matrix"
   ]
  },
  {
   "cell_type": "code",
   "execution_count": 10,
   "metadata": {},
   "outputs": [
    {
     "name": "stdout",
     "output_type": "stream",
     "text": [
      "[[59 39]\n",
      " [29 73]]\n"
     ]
    },
    {
     "data": {
      "text/plain": [
       "<sklearn.metrics._plot.confusion_matrix.ConfusionMatrixDisplay at 0x7f39dfe45690>"
      ]
     },
     "execution_count": 10,
     "metadata": {},
     "output_type": "execute_result"
    },
    {
     "data": {
      "image/png": "[encoded data removed]",
      "text/plain": [
       "<Figure size 432x288 with 2 Axes>"
      ]
     },
     "metadata": {
      "needs_background": "light"
     },
     "output_type": "display_data"
    }
   ],
   "source": [
    "from sklearn.metrics import confusion_matrix, plot_confusion_matrix\n",
    "print(confusion_matrix(y_test, y_pred))\n",
    "plot_confusion_matrix(clf,x_test,y_test,cmap='Blues')"
   ]
  },
  {
   "cell_type": "code",
   "execution_count": 11,
   "metadata": {},
   "outputs": [
    {
     "name": "stdout",
     "output_type": "stream",
     "text": [
      "[[73 25]\n",
      " [23 79]]\n"
     ]
    },
    {
     "data": {
      "text/plain": [
       "<sklearn.metrics._plot.confusion_matrix.ConfusionMatrixDisplay at 0x7f39d2011190>"
      ]
     },
     "execution_count": 11,
     "metadata": {},
     "output_type": "execute_result"
    },
    {
     "data": {
      "image/png": "[encoded data removed]",
      "text/plain": [
       "<Figure size 432x288 with 2 Axes>"
      ]
     },
     "metadata": {
      "needs_background": "light"
     },
     "output_type": "display_data"
    }
   ],
   "source": [
    "from sklearn.metrics import confusion_matrix, plot_confusion_matrix\n",
    "print(confusion_matrix(y_test, y_pred_2))\n",
    "plot_confusion_matrix(clf2,x_test,y_test,cmap='Blues')"
   ]
  },
  {
   "cell_type": "code",
   "execution_count": 12,
   "metadata": {},
   "outputs": [
    {
     "name": "stdout",
     "output_type": "stream",
     "text": [
      "[[64 34]\n",
      " [18 84]]\n"
     ]
    },
    {
     "data": {
      "text/plain": [
       "<sklearn.metrics._plot.confusion_matrix.ConfusionMatrixDisplay at 0x7f39d20115d0>"
      ]
     },
     "execution_count": 12,
     "metadata": {},
     "output_type": "execute_result"
    },
    {
     "data": {
      "image/png": "[encoded data removed]",
      "text/plain": [
       "<Figure size 432x288 with 2 Axes>"
      ]
     },
     "metadata": {
      "needs_background": "light"
     },
     "output_type": "display_data"
    }
   ],
   "source": [
    "from sklearn.metrics import confusion_matrix, plot_confusion_matrix\n",
    "print(confusion_matrix(y_test, y_pred_3))\n",
    "plot_confusion_matrix(clf3,x_test,y_test,cmap='Blues')"
   ]
  },
  {
   "cell_type": "code",
   "execution_count": 13,
   "metadata": {},
   "outputs": [],
   "source": [
    "y_pred_f = np.array((y_pred + y_pred_2 + y_pred_3)/3 > 0.6, dtype = int)"
   ]
  },
  {
   "cell_type": "code",
   "execution_count": 14,
   "metadata": {},
   "outputs": [
    {
     "name": "stdout",
     "output_type": "stream",
     "text": [
      "[[67 31]\n",
      " [21 81]]\n"
     ]
    }
   ],
   "source": [
    "print(confusion_matrix(y_test, y_pred_f))"
   ]
  },
  {
   "cell_type": "code",
   "execution_count": 15,
   "metadata": {},
   "outputs": [
    {
     "data": {
      "text/plain": [
       "SVC(C=1.0, break_ties=False, cache_size=200, class_weight=None, coef0=0.0,\n",
       "    decision_function_shape='ovr', degree=3, gamma='scale', kernel='rbf',\n",
       "    max_iter=-1, probability=False, random_state=None, shrinking=True,\n",
       "    tol=0.001, verbose=False)"
      ]
     },
     "execution_count": 15,
     "metadata": {},
     "output_type": "execute_result"
    }
   ],
   "source": [
    "from sklearn.svm import SVC\n",
    "svm = SVC()\n",
    "svm.fit(x_train, y_train)"
   ]
  },
  {
   "cell_type": "code",
   "execution_count": 16,
   "metadata": {},
   "outputs": [],
   "source": [
    "svm_pred = svm.predict(x_test)"
   ]
  },
  {
   "cell_type": "code",
   "execution_count": 17,
   "metadata": {},
   "outputs": [
    {
     "name": "stdout",
     "output_type": "stream",
     "text": [
      "[[81 17]\n",
      " [22 80]]\n"
     ]
    },
    {
     "data": {
      "text/plain": [
       "<sklearn.metrics._plot.confusion_matrix.ConfusionMatrixDisplay at 0x7f39d1ec9cd0>"
      ]
     },
     "execution_count": 17,
     "metadata": {},
     "output_type": "execute_result"
    },
    {
     "data": {
      "image/png": "[encoded data removed]",
      "text/plain": [
       "<Figure size 432x288 with 2 Axes>"
      ]
     },
     "metadata": {
      "needs_background": "light"
     },
     "output_type": "display_data"
    }
   ],
   "source": [
    "from sklearn.metrics import confusion_matrix, plot_confusion_matrix\n",
    "print(confusion_matrix(y_test, svm_pred))\n",
    "plot_confusion_matrix(svm,x_test,y_test,cmap='Blues')"
   ]
  },
  {
   "cell_type": "code",
   "execution_count": 18,
   "metadata": {},
   "outputs": [
    {
     "data": {
      "text/plain": [
       "0.805"
      ]
     },
     "execution_count": 18,
     "metadata": {},
     "output_type": "execute_result"
    }
   ],
   "source": [
    "(80+81)/(161+39)"
   ]
  },
  {
   "cell_type": "code",
   "execution_count": 21,
   "metadata": {},
   "outputs": [
    {
     "data": {
      "text/plain": [
       "RandomForestClassifier(bootstrap=True, ccp_alpha=0.0, class_weight=None,\n",
       "                       criterion='gini', max_depth=None, max_features='auto',\n",
       "                       max_leaf_nodes=None, max_samples=None,\n",
       "                       min_impurity_decrease=0.0, min_impurity_split=None,\n",
       "                       min_samples_leaf=1, min_samples_split=2,\n",
       "                       min_weight_fraction_leaf=0.0, n_estimators=100,\n",
       "                       n_jobs=None, oob_score=False, random_state=None,\n",
       "                       verbose=0, warm_start=False)"
      ]
     },
     "execution_count": 21,
     "metadata": {},
     "output_type": "execute_result"
    }
   ],
   "source": [
    "from sklearn.ensemble import RandomForestClassifier\n",
    "forest = RandomForestClassifier()\n",
    "forest.fit(x_train, y_train)"
   ]
  },
  {
   "cell_type": "code",
   "execution_count": 22,
   "metadata": {},
   "outputs": [],
   "source": [
    "rfc_predict = forest.predict(x_test)"
   ]
  },
  {
   "cell_type": "code",
   "execution_count": 27,
   "metadata": {},
   "outputs": [
    {
     "name": "stdout",
     "output_type": "stream",
     "text": [
      "[[86 12]\n",
      " [28 74]]\n"
     ]
    },
    {
     "data": {
      "text/plain": [
       "<sklearn.metrics._plot.confusion_matrix.ConfusionMatrixDisplay at 0x7f39c369b350>"
      ]
     },
     "execution_count": 27,
     "metadata": {},
     "output_type": "execute_result"
    },
    {
     "data": {
      "image/png": "[encoded data removed]",
      "text/plain": [
       "<Figure size 432x288 with 2 Axes>"
      ]
     },
     "metadata": {
      "needs_background": "light"
     },
     "output_type": "display_data"
    }
   ],
   "source": [
    "from sklearn.metrics import confusion_matrix, plot_confusion_matrix\n",
    "print(confusion_matrix(y_test, rfc_predict))\n",
    "plot_confusion_matrix(forest,x_test,y_test,cmap='Blues')"
   ]
  },
  {
   "cell_type": "code",
   "execution_count": 29,
   "metadata": {},
   "outputs": [
    {
     "data": {
      "text/plain": [
       "0.8"
      ]
     },
     "execution_count": 29,
     "metadata": {},
     "output_type": "execute_result"
    }
   ],
   "source": [
    "(86+74)/(40+86+74)"
   ]
  },
  {
   "cell_type": "code",
   "execution_count": 30,
   "metadata": {},
   "outputs": [
    {
     "data": {
      "text/plain": [
       "DecisionTreeClassifier(ccp_alpha=0.0, class_weight=None, criterion='gini',\n",
       "                       max_depth=None, max_features=None, max_leaf_nodes=None,\n",
       "                       min_impurity_decrease=0.0, min_impurity_split=None,\n",
       "                       min_samples_leaf=1, min_samples_split=2,\n",
       "                       min_weight_fraction_leaf=0.0, presort='deprecated',\n",
       "                       random_state=None, splitter='best')"
      ]
     },
     "execution_count": 30,
     "metadata": {},
     "output_type": "execute_result"
    }
   ],
   "source": [
    "from sklearn.tree import DecisionTreeClassifier\n",
    "dsc = DecisionTreeClassifier()\n",
    "dsc.fit(x_train, y_train)"
   ]
  },
  {
   "cell_type": "code",
   "execution_count": 31,
   "metadata": {},
   "outputs": [],
   "source": [
    "dsc_predict = dsc.predict(x_test)"
   ]
  },
  {
   "cell_type": "code",
   "execution_count": 32,
   "metadata": {},
   "outputs": [
    {
     "name": "stdout",
     "output_type": "stream",
     "text": [
      "[[77 21]\n",
      " [41 61]]\n"
     ]
    },
    {
     "data": {
      "text/plain": [
       "<sklearn.metrics._plot.confusion_matrix.ConfusionMatrixDisplay at 0x7f39d1da8490>"
      ]
     },
     "execution_count": 32,
     "metadata": {},
     "output_type": "execute_result"
    },
    {
     "data": {
      "image/png": "[encoded data removed]",
      "text/plain": [
       "<Figure size 432x288 with 2 Axes>"
      ]
     },
     "metadata": {
      "needs_background": "light"
     },
     "output_type": "display_data"
    }
   ],
   "source": [
    "from sklearn.metrics import confusion_matrix, plot_confusion_matrix\n",
    "print(confusion_matrix(y_test, dsc_predict))\n",
    "plot_confusion_matrix(dsc,x_test,y_test,cmap='Blues')"
   ]
  },
  {
   "cell_type": "code",
   "execution_count": 35,
   "metadata": {},
   "outputs": [
    {
     "data": {
      "text/plain": [
       "LogisticRegressionCV(Cs=10, class_weight=None, cv=None, dual=False,\n",
       "                     fit_intercept=True, intercept_scaling=1.0, l1_ratios=None,\n",
       "                     max_iter=100, multi_class='auto', n_jobs=None,\n",
       "                     penalty='l2', random_state=None, refit=True, scoring=None,\n",
       "                     solver='lbfgs', tol=0.0001, verbose=0)"
      ]
     },
     "execution_count": 35,
     "metadata": {},
     "output_type": "execute_result"
    }
   ],
   "source": [
    "from sklearn.linear_model import LogisticRegressionCV\n",
    "lgs = LogisticRegressionCV()\n",
    "lgs.fit(x_train, y_train)"
   ]
  },
  {
   "cell_type": "code",
   "execution_count": 36,
   "metadata": {},
   "outputs": [],
   "source": [
    "lgs_predict = lgs.predict(x_test)"
   ]
  },
  {
   "cell_type": "code",
   "execution_count": 37,
   "metadata": {},
   "outputs": [
    {
     "name": "stdout",
     "output_type": "stream",
     "text": [
      "[[78 20]\n",
      " [23 79]]\n"
     ]
    },
    {
     "data": {
      "text/plain": [
       "<sklearn.metrics._plot.confusion_matrix.ConfusionMatrixDisplay at 0x7f39c3183810>"
      ]
     },
     "execution_count": 37,
     "metadata": {},
     "output_type": "execute_result"
    },
    {
     "data": {
      "image/png": "[encoded data removed]",
      "text/plain": [
       "<Figure size 432x288 with 2 Axes>"
      ]
     },
     "metadata": {
      "needs_background": "light"
     },
     "output_type": "display_data"
    }
   ],
   "source": [
    "from sklearn.metrics import confusion_matrix, plot_confusion_matrix\n",
    "print(confusion_matrix(y_test, lgs_predict))\n",
    "plot_confusion_matrix(lgs,x_test,y_test,cmap='Blues')"
   ]
  },
  {
   "cell_type": "code",
   "execution_count": 40,
   "metadata": {},
   "outputs": [],
   "source": [
    "from sklearn.model_selection import cross_val_score\n",
    "for i in range(10):\n",
    "    clf = DecisionTreeClassifier(random_state=0)    \n",
    "    a = cross_val_score(clf, x_train, y_train, cv=10)\n",
    "    clf2 = DecisionTreeClassifier(random_state=0)    \n",
    "    b = cross_val_score(clf2, x_train, y_train, cv=10)\n",
    "    if not np.array_equal(a,b):\n",
    "        print('diff')\n",
    "        print(a)\n",
    "        print(b)\n",
    "        break"
   ]
  },
  {
   "cell_type": "code",
   "execution_count": 43,
   "metadata": {},
   "outputs": [
    {
     "data": {
      "text/plain": [
       "<sklearn.metrics._plot.confusion_matrix.ConfusionMatrixDisplay at 0x7f39c2d2fb10>"
      ]
     },
     "execution_count": 43,
     "metadata": {},
     "output_type": "execute_result"
    },
    {
     "data": {
      "image/png": "[encoded data removed]",
      "text/plain": [
       "<Figure size 432x288 with 2 Axes>"
      ]
     },
     "metadata": {
      "needs_background": "light"
     },
     "output_type": "display_data"
    }
   ],
   "source": [
    "clf2.fit(x_train, y_train)\n",
    "plot_confusion_matrix(clf2,x_test,y_test,cmap='Blues')"
   ]
  },
  {
   "cell_type": "code",
   "execution_count": 46,
   "metadata": {},
   "outputs": [],
   "source": [
    "y_final = (clf.predict(x_test) + clf2.predict(x_test))/2"
   ]
  },
  {
   "cell_type": "code",
   "execution_count": 47,
   "metadata": {},
   "outputs": [
    {
     "data": {
      "text/plain": [
       "array([[81, 17],\n",
       "       [35, 67]])"
      ]
     },
     "execution_count": 47,
     "metadata": {},
     "output_type": "execute_result"
    }
   ],
   "source": [
    "confusion_matrix(y_test, y_final)"
   ]
  },
  {
   "cell_type": "code",
   "execution_count": null,
   "metadata": {},
   "outputs": [],
   "source": []
  }
 ],
 "metadata": {
  "colab": {
   "collapsed_sections": [],
   "name": "natural_language_processing.ipynb",
   "provenance": [],
   "toc_visible": true
  },
  "kernelspec": {
   "display_name": "Python 3",
   "language": "python",
   "name": "python3"
  },
  "language_info": {
   "codemirror_mode": {
    "name": "ipython",
    "version": 3
   },
   "file_extension": ".py",
   "mimetype": "text/x-python",
   "name": "python",
   "nbconvert_exporter": "python",
   "pygments_lexer": "ipython3",
   "version": "3.7.6"
  }
 },
 "nbformat": 4,
 "nbformat_minor": 1
}
